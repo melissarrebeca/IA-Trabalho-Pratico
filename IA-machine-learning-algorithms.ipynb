{
 "cells": [
  {
   "cell_type": "markdown",
   "metadata": {},
   "source": [
    "# 1. Decision Tree"
   ]
  },
  {
   "cell_type": "code",
   "execution_count": 2,
   "metadata": {},
   "outputs": [],
   "source": [
    "import pandas as pd\n",
    "from sklearn.model_selection import train_test_split, cross_val_score\n",
    "from sklearn.tree import DecisionTreeClassifier\n",
    "from sklearn.metrics import accuracy_score, classification_report, confusion_matrix\n",
    "from sklearn.preprocessing import LabelEncoder"
   ]
  },
  {
   "cell_type": "code",
   "execution_count": 4,
   "metadata": {},
   "outputs": [],
   "source": [
    "path_database = (\"C:/Users/melis/OneDrive/IA/IA-Trabalho-pratico/.venv/mental-health-in-tech-v2.csv\")\n",
    "data = pd.read_csv(path_database, index_col = False)\n",
    "data = pd.DataFrame(data)"
   ]
  },
  {
   "cell_type": "code",
   "execution_count": 5,
   "metadata": {},
   "outputs": [
    {
     "name": "stdout",
     "output_type": "stream",
     "text": [
      "Cross-validation scores: [0.68       0.75806452 0.72580645 0.70967742 0.61290323]\n",
      "Mean cross-validation score: 0.6972903225806453\n",
      "Accuracy on test set: 0.6602564102564102\n",
      "\n",
      "Classification Report on test set:\n",
      "               precision    recall  f1-score   support\n",
      "\n",
      "           0       0.60      0.54      0.57        65\n",
      "           1       0.69      0.75      0.72        91\n",
      "\n",
      "    accuracy                           0.66       156\n",
      "   macro avg       0.65      0.64      0.64       156\n",
      "weighted avg       0.66      0.66      0.66       156\n",
      "\n",
      "\n",
      "Confusion Matrix on test set:\n",
      " [[35 30]\n",
      " [23 68]]\n"
     ]
    }
   ],
   "source": [
    "# Separando características e variável alvo\n",
    "X = data.drop('treatment', axis=1)\n",
    "y = data['treatment']\n",
    "\n",
    "# Dividindo os dados em conjuntos de treinamento e teste\n",
    "X_train, X_test, y_train, y_test = train_test_split(X, y, test_size=0.2, random_state=42)\n",
    "\n",
    "# Treinando o modelo de Decision Tree com validação cruzada\n",
    "clf = DecisionTreeClassifier(random_state=42)\n",
    "\n",
    "# Avaliando o modelo com cross-validation\n",
    "cv_scores = cross_val_score(clf, X_train, y_train, cv=5)\n",
    "\n",
    "print(\"Cross-validation scores:\", cv_scores)\n",
    "print(\"Mean cross-validation score:\", cv_scores.mean())\n",
    "\n",
    "# Treinando o modelo com o conjunto de treinamento completo\n",
    "clf.fit(X_train, y_train)\n",
    "\n",
    "# Fazendo previsões no conjunto de teste\n",
    "y_pred = clf.predict(X_test)\n",
    "\n",
    "# Avaliando o modelo no conjunto de teste\n",
    "print(\"Accuracy on test set:\", accuracy_score(y_test, y_pred))\n",
    "print(\"\\nClassification Report on test set:\\n\", classification_report(y_test, y_pred))\n",
    "print(\"\\nConfusion Matrix on test set:\\n\", confusion_matrix(y_test, y_pred))"
   ]
  },
  {
   "cell_type": "markdown",
   "metadata": {},
   "source": [
    "# 2. Random Forest"
   ]
  },
  {
   "cell_type": "code",
   "execution_count": 6,
   "metadata": {},
   "outputs": [],
   "source": [
    "import pandas as pd\n",
    "from sklearn.model_selection import train_test_split, cross_val_score\n",
    "from sklearn.ensemble import RandomForestClassifier\n",
    "from sklearn.metrics import accuracy_score, classification_report, confusion_matrix\n",
    "from sklearn.preprocessing import LabelEncoder"
   ]
  },
  {
   "cell_type": "code",
   "execution_count": 7,
   "metadata": {},
   "outputs": [],
   "source": [
    "path_database = (\"C:/Users/melis/OneDrive/IA/IA-Trabalho-pratico/.venv/mental-health-in-tech-v2.csv\")\n",
    "data = pd.read_csv(path_database, index_col = False)\n",
    "data = pd.DataFrame(data)"
   ]
  },
  {
   "cell_type": "code",
   "execution_count": 8,
   "metadata": {},
   "outputs": [
    {
     "name": "stdout",
     "output_type": "stream",
     "text": [
      "Cross-validation scores: [0.744      0.83064516 0.83870968 0.78225806 0.7016129 ]\n",
      "Mean cross-validation score: 0.7794451612903226\n",
      "Accuracy on test set: 0.7564102564102564\n",
      "\n",
      "Classification Report on test set:\n",
      "               precision    recall  f1-score   support\n",
      "\n",
      "           0       0.86      0.49      0.63        65\n",
      "           1       0.72      0.95      0.82        91\n",
      "\n",
      "    accuracy                           0.76       156\n",
      "   macro avg       0.79      0.72      0.72       156\n",
      "weighted avg       0.78      0.76      0.74       156\n",
      "\n",
      "\n",
      "Confusion Matrix on test set:\n",
      " [[32 33]\n",
      " [ 5 86]]\n"
     ]
    }
   ],
   "source": [
    "# Separando características e variável alvo\n",
    "X = data.drop('treatment', axis=1)\n",
    "y = data['treatment']\n",
    "\n",
    "# Dividindo os dados em conjuntos de treinamento e teste\n",
    "X_train, X_test, y_train, y_test = train_test_split(X, y, test_size=0.2, random_state=42)\n",
    "\n",
    "# Treinando o modelo de Random Forest com validação cruzada\n",
    "clf = RandomForestClassifier(random_state=42)\n",
    "\n",
    "# Avaliando o modelo com cross-validation\n",
    "cv_scores = cross_val_score(clf, X_train, y_train, cv=5)\n",
    "\n",
    "print(\"Cross-validation scores:\", cv_scores)\n",
    "print(\"Mean cross-validation score:\", cv_scores.mean())\n",
    "\n",
    "# Treinando o modelo com o conjunto de treinamento completo\n",
    "clf.fit(X_train, y_train)\n",
    "\n",
    "# Fazendo previsões no conjunto de teste\n",
    "y_pred = clf.predict(X_test)\n",
    "\n",
    "# Avaliando o modelo no conjunto de teste\n",
    "print(\"Accuracy on test set:\", accuracy_score(y_test, y_pred))\n",
    "print(\"\\nClassification Report on test set:\\n\", classification_report(y_test, y_pred))\n",
    "print(\"\\nConfusion Matrix on test set:\\n\", confusion_matrix(y_test, y_pred))"
   ]
  },
  {
   "cell_type": "markdown",
   "metadata": {},
   "source": [
    "# 3. Naive Bayes"
   ]
  },
  {
   "cell_type": "code",
   "execution_count": 9,
   "metadata": {},
   "outputs": [],
   "source": [
    "import pandas as pd\n",
    "from sklearn.model_selection import train_test_split, cross_val_score\n",
    "from sklearn.naive_bayes import GaussianNB\n",
    "from sklearn.metrics import accuracy_score, classification_report, confusion_matrix\n",
    "from sklearn.preprocessing import LabelEncoder"
   ]
  },
  {
   "cell_type": "code",
   "execution_count": 10,
   "metadata": {},
   "outputs": [],
   "source": [
    "path_database = (\"C:/Users/melis/OneDrive/IA/IA-Trabalho-pratico/.venv/mental-health-in-tech-v2.csv\")\n",
    "data = pd.read_csv(path_database, index_col = False)\n",
    "data = pd.DataFrame(data)"
   ]
  },
  {
   "cell_type": "code",
   "execution_count": 11,
   "metadata": {},
   "outputs": [
    {
     "name": "stdout",
     "output_type": "stream",
     "text": [
      "Cross-validation scores: [0.696      0.82258065 0.83870968 0.71774194 0.7016129 ]\n",
      "Mean cross-validation score: 0.7553290322580646\n",
      "Accuracy on test set: 0.7628205128205128\n",
      "\n",
      "Classification Report on test set:\n",
      "               precision    recall  f1-score   support\n",
      "\n",
      "           0       0.73      0.69      0.71        65\n",
      "           1       0.79      0.81      0.80        91\n",
      "\n",
      "    accuracy                           0.76       156\n",
      "   macro avg       0.76      0.75      0.75       156\n",
      "weighted avg       0.76      0.76      0.76       156\n",
      "\n",
      "\n",
      "Confusion Matrix on test set:\n",
      " [[45 20]\n",
      " [17 74]]\n"
     ]
    }
   ],
   "source": [
    "# Separando características e variável alvo\n",
    "X = data.drop('treatment', axis=1)\n",
    "y = data['treatment']\n",
    "\n",
    "# Dividindo os dados em conjuntos de treinamento e teste\n",
    "X_train, X_test, y_train, y_test = train_test_split(X, y, test_size=0.2, random_state=42)\n",
    "\n",
    "# Treinando o modelo de Naive Bayes com validação cruzada\n",
    "clf = GaussianNB()\n",
    "\n",
    "# Avaliando o modelo com cross-validation\n",
    "cv_scores = cross_val_score(clf, X_train, y_train, cv=5)\n",
    "\n",
    "print(\"Cross-validation scores:\", cv_scores)\n",
    "print(\"Mean cross-validation score:\", cv_scores.mean())\n",
    "\n",
    "# Treinando o modelo com o conjunto de treinamento completo\n",
    "clf.fit(X_train, y_train)\n",
    "\n",
    "# Fazendo previsões no conjunto de teste\n",
    "y_pred = clf.predict(X_test)\n",
    "\n",
    "# Avaliando o modelo no conjunto de teste\n",
    "print(\"Accuracy on test set:\", accuracy_score(y_test, y_pred))\n",
    "print(\"\\nClassification Report on test set:\\n\", classification_report(y_test, y_pred))\n",
    "print(\"\\nConfusion Matrix on test set:\\n\", confusion_matrix(y_test, y_pred))"
   ]
  },
  {
   "cell_type": "markdown",
   "metadata": {},
   "source": [
    "# 4. K-Nearest Neighbors"
   ]
  },
  {
   "cell_type": "code",
   "execution_count": 12,
   "metadata": {},
   "outputs": [],
   "source": [
    "import pandas as pd\n",
    "from sklearn.model_selection import train_test_split, cross_val_score\n",
    "from sklearn.neighbors import KNeighborsClassifier\n",
    "from sklearn.metrics import accuracy_score, classification_report, confusion_matrix\n",
    "from sklearn.preprocessing import LabelEncoder"
   ]
  },
  {
   "cell_type": "code",
   "execution_count": 13,
   "metadata": {},
   "outputs": [],
   "source": [
    "path_database = (\"C:/Users/melis/OneDrive/IA/IA-Trabalho-pratico/.venv/mental-health-in-tech-v2.csv\")\n",
    "data = pd.read_csv(path_database, index_col = False)\n",
    "data = pd.DataFrame(data)"
   ]
  },
  {
   "cell_type": "code",
   "execution_count": 14,
   "metadata": {},
   "outputs": [
    {
     "name": "stdout",
     "output_type": "stream",
     "text": [
      "Cross-validation scores: [0.568      0.58870968 0.63709677 0.57258065 0.62096774]\n",
      "Mean cross-validation score: 0.5974709677419355\n",
      "Accuracy on test set: 0.5897435897435898\n",
      "\n",
      "Classification Report on test set:\n",
      "               precision    recall  f1-score   support\n",
      "\n",
      "           0       0.51      0.31      0.38        65\n",
      "           1       0.62      0.79      0.69        91\n",
      "\n",
      "    accuracy                           0.59       156\n",
      "   macro avg       0.56      0.55      0.54       156\n",
      "weighted avg       0.57      0.59      0.56       156\n",
      "\n",
      "\n",
      "Confusion Matrix on test set:\n",
      " [[20 45]\n",
      " [19 72]]\n"
     ]
    }
   ],
   "source": [
    "# Separando características e variável alvo\n",
    "X = data.drop('treatment', axis=1)\n",
    "y = data['treatment']\n",
    "\n",
    "# Dividindo os dados em conjuntos de treinamento e teste\n",
    "X_train, X_test, y_train, y_test = train_test_split(X, y, test_size=0.2, random_state=42)\n",
    "\n",
    "# Treinando o modelo de KNN com validação cruzada\n",
    "clf = KNeighborsClassifier(n_neighbors=5)\n",
    "\n",
    "# Avaliando o modelo com cross-validation\n",
    "cv_scores = cross_val_score(clf, X_train, y_train, cv=5)\n",
    "\n",
    "print(\"Cross-validation scores:\", cv_scores)\n",
    "print(\"Mean cross-validation score:\", cv_scores.mean())\n",
    "\n",
    "# Treinando o modelo com o conjunto de treinamento completo\n",
    "clf.fit(X_train, y_train)\n",
    "\n",
    "# Fazendo previsões no conjunto de teste\n",
    "y_pred = clf.predict(X_test)\n",
    "\n",
    "# Avaliando o modelo no conjunto de teste\n",
    "print(\"Accuracy on test set:\", accuracy_score(y_test, y_pred))\n",
    "print(\"\\nClassification Report on test set:\\n\", classification_report(y_test, y_pred))\n",
    "print(\"\\nConfusion Matrix on test set:\\n\", confusion_matrix(y_test, y_pred))"
   ]
  },
  {
   "cell_type": "markdown",
   "metadata": {},
   "source": [
    "# 5. Support Vector Machine"
   ]
  },
  {
   "cell_type": "code",
   "execution_count": 15,
   "metadata": {},
   "outputs": [],
   "source": [
    "import pandas as pd\n",
    "from sklearn.model_selection import train_test_split, cross_val_score\n",
    "from sklearn.svm import SVC\n",
    "from sklearn.metrics import accuracy_score, classification_report, confusion_matrix\n",
    "from sklearn.preprocessing import LabelEncoder, StandardScaler"
   ]
  },
  {
   "cell_type": "code",
   "execution_count": 16,
   "metadata": {},
   "outputs": [],
   "source": [
    "path_database = (\"C:/Users/melis/OneDrive/IA/IA-Trabalho-pratico/.venv/mental-health-in-tech-v2.csv\")\n",
    "data = pd.read_csv(path_database, index_col = False)\n",
    "data = pd.DataFrame(data)"
   ]
  },
  {
   "cell_type": "code",
   "execution_count": 17,
   "metadata": {},
   "outputs": [
    {
     "name": "stdout",
     "output_type": "stream",
     "text": [
      "Cross-validation scores: [0.728      0.79032258 0.82258065 0.72580645 0.73387097]\n",
      "Mean cross-validation score: 0.760116129032258\n",
      "Accuracy on test set: 0.7564102564102564\n",
      "\n",
      "Classification Report on test set:\n",
      "               precision    recall  f1-score   support\n",
      "\n",
      "           0       0.80      0.55      0.65        65\n",
      "           1       0.74      0.90      0.81        91\n",
      "\n",
      "    accuracy                           0.76       156\n",
      "   macro avg       0.77      0.73      0.73       156\n",
      "weighted avg       0.76      0.76      0.75       156\n",
      "\n",
      "\n",
      "Confusion Matrix on test set:\n",
      " [[36 29]\n",
      " [ 9 82]]\n"
     ]
    }
   ],
   "source": [
    "# Separando características e variável alvo\n",
    "X = data.drop('treatment', axis=1)\n",
    "y = data['treatment']\n",
    "\n",
    "# Padronizando as características\n",
    "scaler = StandardScaler()\n",
    "X = scaler.fit_transform(X)\n",
    "\n",
    "# Dividindo os dados em conjuntos de treinamento e teste\n",
    "X_train, X_test, y_train, y_test = train_test_split(X, y, test_size=0.2, random_state=42)\n",
    "\n",
    "# Treinando o modelo de SVM com validação cruzada\n",
    "clf = SVC(kernel='linear', random_state=42)\n",
    "\n",
    "# Avaliando o modelo com cross-validation\n",
    "cv_scores = cross_val_score(clf, X_train, y_train, cv=5)\n",
    "\n",
    "print(\"Cross-validation scores:\", cv_scores)\n",
    "print(\"Mean cross-validation score:\", cv_scores.mean())\n",
    "\n",
    "# Treinando o modelo com o conjunto de treinamento completo\n",
    "clf.fit(X_train, y_train)\n",
    "\n",
    "# Fazendo previsões no conjunto de teste\n",
    "y_pred = clf.predict(X_test)\n",
    "\n",
    "# Avaliando o modelo no conjunto de teste\n",
    "print(\"Accuracy on test set:\", accuracy_score(y_test, y_pred))\n",
    "print(\"\\nClassification Report on test set:\\n\", classification_report(y_test, y_pred))\n",
    "print(\"\\nConfusion Matrix on test set:\\n\", confusion_matrix(y_test, y_pred))"
   ]
  },
  {
   "cell_type": "markdown",
   "metadata": {},
   "source": [
    "# 6. Linear Discriminant Analysis"
   ]
  },
  {
   "cell_type": "code",
   "execution_count": 18,
   "metadata": {},
   "outputs": [],
   "source": [
    "import pandas as pd\n",
    "from sklearn.model_selection import train_test_split, cross_val_score\n",
    "from sklearn.discriminant_analysis import LinearDiscriminantAnalysis\n",
    "from sklearn.metrics import accuracy_score, classification_report, confusion_matrix\n",
    "from sklearn.preprocessing import LabelEncoder, StandardScaler"
   ]
  },
  {
   "cell_type": "code",
   "execution_count": 19,
   "metadata": {},
   "outputs": [],
   "source": [
    "path_database = (\"C:/Users/melis/OneDrive/IA/IA-Trabalho-pratico/.venv/mental-health-in-tech-v2.csv\")\n",
    "data = pd.read_csv(path_database, index_col = False)\n",
    "data = pd.DataFrame(data)"
   ]
  },
  {
   "cell_type": "code",
   "execution_count": 20,
   "metadata": {},
   "outputs": [
    {
     "name": "stdout",
     "output_type": "stream",
     "text": [
      "Cross-validation scores: [0.728      0.78225806 0.81451613 0.74193548 0.74193548]\n",
      "Mean cross-validation score: 0.7617290322580645\n",
      "Accuracy on test set: 0.7435897435897436\n",
      "\n",
      "Classification Report on test set:\n",
      "               precision    recall  f1-score   support\n",
      "\n",
      "           0       0.76      0.57      0.65        65\n",
      "           1       0.74      0.87      0.80        91\n",
      "\n",
      "    accuracy                           0.74       156\n",
      "   macro avg       0.75      0.72      0.72       156\n",
      "weighted avg       0.75      0.74      0.74       156\n",
      "\n",
      "\n",
      "Confusion Matrix on test set:\n",
      " [[37 28]\n",
      " [12 79]]\n"
     ]
    }
   ],
   "source": [
    "# Separando características e variável alvo\n",
    "X = data.drop('treatment', axis=1)\n",
    "y = data['treatment']\n",
    "\n",
    "# Padronizando as características\n",
    "scaler = StandardScaler()\n",
    "X = scaler.fit_transform(X)\n",
    "\n",
    "# Dividindo os dados em conjuntos de treinamento e teste\n",
    "X_train, X_test, y_train, y_test = train_test_split(X, y, test_size=0.2, random_state=42)\n",
    "\n",
    "# Treinando o modelo de LDA com validação cruzada\n",
    "clf = LinearDiscriminantAnalysis()\n",
    "\n",
    "# Avaliando o modelo com cross-validation\n",
    "cv_scores = cross_val_score(clf, X_train, y_train, cv=5)\n",
    "\n",
    "print(\"Cross-validation scores:\", cv_scores)\n",
    "print(\"Mean cross-validation score:\", cv_scores.mean())\n",
    "\n",
    "# Treinando o modelo com o conjunto de treinamento completo\n",
    "clf.fit(X_train, y_train)\n",
    "\n",
    "# Fazendo previsões no conjunto de teste\n",
    "y_pred = clf.predict(X_test)\n",
    "\n",
    "# Avaliando o modelo no conjunto de teste\n",
    "print(\"Accuracy on test set:\", accuracy_score(y_test, y_pred))\n",
    "print(\"\\nClassification Report on test set:\\n\", classification_report(y_test, y_pred))\n",
    "print(\"\\nConfusion Matrix on test set:\\n\", confusion_matrix(y_test, y_pred))"
   ]
  },
  {
   "cell_type": "markdown",
   "metadata": {},
   "source": [
    "# 7. Neural Network"
   ]
  },
  {
   "cell_type": "code",
   "execution_count": 21,
   "metadata": {},
   "outputs": [],
   "source": [
    "import pandas as pd\n",
    "from sklearn.model_selection import train_test_split, cross_val_score\n",
    "from sklearn.neural_network import MLPClassifier\n",
    "from sklearn.metrics import accuracy_score, classification_report, confusion_matrix\n",
    "from sklearn.preprocessing import LabelEncoder, StandardScaler"
   ]
  },
  {
   "cell_type": "code",
   "execution_count": 22,
   "metadata": {},
   "outputs": [],
   "source": [
    "path_database = (\"C:/Users/melis/OneDrive/IA/IA-Trabalho-pratico/.venv/mental-health-in-tech-v2.csv\")\n",
    "data = pd.read_csv(path_database, index_col = False)\n",
    "data = pd.DataFrame(data)"
   ]
  },
  {
   "cell_type": "code",
   "execution_count": 23,
   "metadata": {},
   "outputs": [
    {
     "name": "stdout",
     "output_type": "stream",
     "text": [
      "Cross-validation scores: [0.672      0.69354839 0.75806452 0.68548387 0.65322581]\n",
      "Mean cross-validation score: 0.6924645161290324\n",
      "Accuracy on test set: 0.7115384615384616\n",
      "\n",
      "Classification Report on test set:\n",
      "               precision    recall  f1-score   support\n",
      "\n",
      "           0       0.69      0.57      0.62        65\n",
      "           1       0.73      0.81      0.77        91\n",
      "\n",
      "    accuracy                           0.71       156\n",
      "   macro avg       0.71      0.69      0.69       156\n",
      "weighted avg       0.71      0.71      0.71       156\n",
      "\n",
      "\n",
      "Confusion Matrix on test set:\n",
      " [[37 28]\n",
      " [17 74]]\n"
     ]
    }
   ],
   "source": [
    "# Separando características e variável alvo\n",
    "X = data.drop('treatment', axis=1)\n",
    "y = data['treatment']\n",
    "\n",
    "# Padronizando as características\n",
    "scaler = StandardScaler()\n",
    "X = scaler.fit_transform(X)\n",
    "\n",
    "# Dividindo os dados em conjuntos de treinamento e teste\n",
    "X_train, X_test, y_train, y_test = train_test_split(X, y, test_size=0.2, random_state=42)\n",
    "\n",
    "# Treinando o modelo de Rede Neural com validação cruzada\n",
    "clf = MLPClassifier(hidden_layer_sizes=(100,), max_iter=1000, random_state=42)\n",
    "\n",
    "# Avaliando o modelo com cross-validation\n",
    "cv_scores = cross_val_score(clf, X_train, y_train, cv=5)\n",
    "\n",
    "print(\"Cross-validation scores:\", cv_scores)\n",
    "print(\"Mean cross-validation score:\", cv_scores.mean())\n",
    "\n",
    "# Treinando o modelo com o conjunto de treinamento completo\n",
    "clf.fit(X_train, y_train)\n",
    "\n",
    "# Fazendo previsões no conjunto de teste\n",
    "y_pred = clf.predict(X_test)\n",
    "\n",
    "# Avaliando o modelo no conjunto de teste\n",
    "print(\"Accuracy on test set:\", accuracy_score(y_test, y_pred))\n",
    "print(\"\\nClassification Report on test set:\\n\", classification_report(y_test, y_pred))\n",
    "print(\"\\nConfusion Matrix on test set:\\n\", confusion_matrix(y_test, y_pred))"
   ]
  }
 ],
 "metadata": {
  "kernelspec": {
   "display_name": ".venv",
   "language": "python",
   "name": "python3"
  },
  "language_info": {
   "codemirror_mode": {
    "name": "ipython",
    "version": 3
   },
   "file_extension": ".py",
   "mimetype": "text/x-python",
   "name": "python",
   "nbconvert_exporter": "python",
   "pygments_lexer": "ipython3",
   "version": "3.12.3"
  }
 },
 "nbformat": 4,
 "nbformat_minor": 2
}
